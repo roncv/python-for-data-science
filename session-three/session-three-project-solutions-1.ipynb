{
 "cells": [
  {
   "cell_type": "markdown",
   "metadata": {},
   "source": [
    "# Python for Data Science Project Session 3: Mathematics and Statistics"
   ]
  },
  {
   "cell_type": "markdown",
   "metadata": {},
   "source": [
    "In this project session, we will look at three mini-topics related to Mathematics and Statistics, applying the techniques we learnt in the third teaching session.\n",
    "\n",
    "We start by importing all packages required for this session."
   ]
  },
  {
   "cell_type": "code",
   "execution_count": 2,
   "metadata": {},
   "outputs": [],
   "source": [
    "%pycodestyle_on"
   ]
  },
  {
   "cell_type": "code",
   "execution_count": 3,
   "metadata": {},
   "outputs": [],
   "source": [
    "import numpy as np\n",
    "import matplotlib.pyplot as plt\n",
    "from PIL import Image  # Pillow\n",
    "import time"
   ]
  },
  {
   "cell_type": "markdown",
   "metadata": {},
   "source": [
    "## Linear Regression"
   ]
  },
  {
   "cell_type": "markdown",
   "metadata": {},
   "source": [
    "In the Beginner's Python course I introduced Linear Regression, and a formula to find the line of best fit between points $(x_1, y_1), \\dots, (x_n, y_n)$ for some positive integer $n$. Don't worry if you didn't see this, of course. In this example I will use a different method for finding such a line, using matrices! Exciting, right?\n",
    "\n",
    "We want to find a function $\\hat{y}(x) = b_0 + b_1x$ that minimises the squared distance between the predicted and actual values, $\\hat{y}(x_i)$ and $y(x_i)$ repsectively.\n",
    "\n",
    "In matrix form we have the following:\n",
    "$\n",
    "   \\hat{y}(x) = \n",
    "  \\left[ {\\begin{array}{cc}\n",
    "   1 & x \n",
    "  \\end{array} } \\right]\n",
    "  \\left[ {\\begin{array}{c}\n",
    "   b_0 \\\\\n",
    "   b_1\n",
    "  \\end{array} } \\right]\n",
    "$\n",
    "\n",
    "And in a combined form with the $n$ data-points:\n",
    "$\n",
    "  \\left[ {\\begin{array}{c}\n",
    "   \\hat{y}(x_1) \\\\\n",
    "   \\vdots \\\\\n",
    "   \\hat{y}(x_n)\n",
    "  \\end{array} } \\right] = \n",
    "  \\left[ {\\begin{array}{cc}\n",
    "   1 & x_1 \\\\\n",
    "   \\vdots & \\vdots \\\\\n",
    "   1 & x_n\n",
    "  \\end{array} } \\right]\n",
    "  \\left[ {\\begin{array}{c}\n",
    "   b_0 \\\\\n",
    "   b_1\n",
    "  \\end{array} } \\right]\n",
    "  =: Xb.\n",
    "$\n",
    "Also, let\n",
    "$\n",
    "    Y := \\left[ {\\begin{array}{c}\n",
    "   y_1 \\\\\n",
    "   \\vdots \\\\\n",
    "   y_n\n",
    "   \\end{array} } \\right]\n",
    "$\n",
    "\n",
    "From here we want to minimise the following 'loss' function\n",
    "$||Y- Xb||_2^2$, where this basically represents the sum of the squared distances between $y_i$ and $\\hat{y}(x_i)$.\n",
    "\n",
    "This gives us (by taking the grad with respect to b, and setting this equal to zero), $b = (X^TX)^{-1}X^TY$, where $X^T$ represents the transpose of the matrix $X$."
   ]
  },
  {
   "cell_type": "markdown",
   "metadata": {},
   "source": [
    "Using this result can you find the line of best fit through the following points: $(0, 3), (1,5), (2,6), (3,8), (5,14)$?"
   ]
  },
  {
   "cell_type": "markdown",
   "metadata": {},
   "source": [
    "We can represent these vectors in the numpy array, shown below"
   ]
  },
  {
   "cell_type": "code",
   "execution_count": 4,
   "metadata": {},
   "outputs": [],
   "source": [
    "data = np.array([\n",
    "    [0.0, 3.0],\n",
    "    [1.0, 5.0],\n",
    "    [2.0, 6.0],\n",
    "    [3.0, 8.0],\n",
    "    [5.0, 14.0],\n",
    "    ])"
   ]
  },
  {
   "cell_type": "markdown",
   "metadata": {},
   "source": [
    "Let's plot this data"
   ]
  },
  {
   "cell_type": "code",
   "execution_count": 5,
   "metadata": {},
   "outputs": [
    {
     "data": {
      "image/png": "[encoded data removed]",
      "text/plain": [
       "<Figure size 432x288 with 1 Axes>"
      ]
     },
     "metadata": {
      "needs_background": "light"
     },
     "output_type": "display_data"
    }
   ],
   "source": [
    "X_1 = data[:, 0:1]\n",
    "Y = data[:, 1:2]\n",
    "plt.scatter(X_1, Y)\n",
    "plt.show()"
   ]
  },
  {
   "cell_type": "markdown",
   "metadata": {},
   "source": [
    "Now let's create the X matrix, shown above."
   ]
  },
  {
   "cell_type": "code",
   "execution_count": 6,
   "metadata": {},
   "outputs": [
    {
     "data": {
      "text/plain": [
       "array([[1., 0.],\n",
       "       [1., 1.],\n",
       "       [1., 2.],\n",
       "       [1., 3.],\n",
       "       [1., 5.]])"
      ]
     },
     "execution_count": 6,
     "metadata": {},
     "output_type": "execute_result"
    }
   ],
   "source": [
    "X = np.concatenate((np.ones(len(X_1)).reshape(-1, 1), X_1), axis=1)\n",
    "X"
   ]
  },
  {
   "cell_type": "markdown",
   "metadata": {},
   "source": [
    "Now the transpose"
   ]
  },
  {
   "cell_type": "code",
   "execution_count": 7,
   "metadata": {},
   "outputs": [
    {
     "data": {
      "text/plain": [
       "array([[1., 1., 1., 1., 1.],\n",
       "       [0., 1., 2., 3., 5.]])"
      ]
     },
     "execution_count": 7,
     "metadata": {},
     "output_type": "execute_result"
    }
   ],
   "source": [
    "XT = np.transpose(X)\n",
    "XT"
   ]
  },
  {
   "cell_type": "markdown",
   "metadata": {},
   "source": [
    "Now let's calculate our $b_0$ and $b_1$ approximations, using numpy"
   ]
  },
  {
   "cell_type": "code",
   "execution_count": 8,
   "metadata": {},
   "outputs": [],
   "source": [
    "left = np.linalg.inv(np.matmul(XT, X))\n",
    "right = np.matmul(XT, Y)\n",
    "b0, b1 = np.matmul(left, right)"
   ]
  },
  {
   "cell_type": "markdown",
   "metadata": {},
   "source": [
    "Now we create the regression function"
   ]
  },
  {
   "cell_type": "code",
   "execution_count": 9,
   "metadata": {},
   "outputs": [],
   "source": [
    "def y_hat(x):\n",
    "    return b0 + b1*x"
   ]
  },
  {
   "cell_type": "markdown",
   "metadata": {},
   "source": [
    "... and finally plot the line against the data points!"
   ]
  },
  {
   "cell_type": "code",
   "execution_count": 10,
   "metadata": {},
   "outputs": [
    {
     "data": {
      "image/png": "[encoded data removed]",
      "text/plain": [
       "<Figure size 432x288 with 1 Axes>"
      ]
     },
     "metadata": {
      "needs_background": "light"
     },
     "output_type": "display_data"
    }
   ],
   "source": [
    "X_1 = data[:, 0:1]\n",
    "Y = data[:, 1:2]\n",
    "x = np.linspace(min(X_1), max(X_1), 10000)\n",
    "plt.plot(x, y_hat(x))\n",
    "plt.scatter(X_1, Y)\n",
    "plt.show()"
   ]
  },
  {
   "cell_type": "markdown",
   "metadata": {},
   "source": [
    "## Trapezium Rule"
   ]
  },
  {
   "cell_type": "markdown",
   "metadata": {},
   "source": [
    "The first topic we will look at is the Trapeizum rule, which is used for approximating integrals of functions."
   ]
  },
  {
   "cell_type": "markdown",
   "metadata": {},
   "source": [
    "Approximate the integral of the function $f(x) = x^5 + 4x^3 - x^2 + 5$ between $x=0$ and $x=5$ using the trapezium rule, described below:\n",
    "\n",
    "Fix a natural number $N$, which will function as the number of (equal) partitions of the $x$-axis,\n",
    "Evaluate $f$ at the edge of each of these intervals, obtaining $N+1$ values of $f(x)$\n",
    "Join up these $f(x_i)$ using a straight line (making $N$ trapezia),\n",
    "\n",
    "The equation for the total area of these trapezia is then\n",
    "\n",
    "$\n",
    "\\frac{x_N - x_0}{2N}[f(x_0) + 2(f(x_1) + \\cdots + f(x_{N-1})) + f(x_N)]\n",
    "$"
   ]
  },
  {
   "cell_type": "markdown",
   "metadata": {},
   "source": [
    "The image below shows the construction of the trapezia [https://www.math24.net/trapezoidal-rule]:"
   ]
  },
  {
   "cell_type": "code",
   "execution_count": 11,
   "metadata": {},
   "outputs": [],
   "source": [
    "im = Image.open(\"trapezium_rule.png\")\n",
    "im.show()"
   ]
  },
  {
   "cell_type": "markdown",
   "metadata": {},
   "source": [
    "Firstly, I define the function, along with $N, x_0$ and $x_N$:"
   ]
  },
  {
   "cell_type": "code",
   "execution_count": 12,
   "metadata": {},
   "outputs": [],
   "source": [
    "def f(x):\n",
    "    return x**5 + 4*x**3 - x**2 + 5\n",
    "\n",
    "\n",
    "N = 1000000\n",
    "x_0 = 0\n",
    "x_N = 5"
   ]
  },
  {
   "cell_type": "markdown",
   "metadata": {},
   "source": [
    "We will calculate an approximation to the integral using the trapzium rule, first using numpy arrays and secondly using lists - to compare the times of both methods."
   ]
  },
  {
   "cell_type": "markdown",
   "metadata": {},
   "source": [
    "Now, we calculate the area under the trapezia using the formula \n",
    "$\n",
    "\\frac{x_N - x_0}{2N}[f(x_0) + 2(f(x_1) + \\cdots + f(x_{N-1})) + f(x_N)]\n",
    "$,\n",
    "while also timing how long this takes"
   ]
  },
  {
   "cell_type": "code",
   "execution_count": 13,
   "metadata": {},
   "outputs": [
    {
     "name": "stdout",
     "output_type": "stream",
     "text": [
      "1.2806060314178467\n"
     ]
    }
   ],
   "source": [
    "start = time.time()\n",
    "x = np.linspace(x_0, x_N, N+1)  # Create the endpoints of the intervals\n",
    "y = f(x)  # Evaluate f at each of these points\n",
    "area_np = (x[-1] - x[0])/(2*N) * (2*sum(y) - y[0] - y[1])\n",
    "end = time.time()\n",
    "print(end-start)"
   ]
  },
  {
   "cell_type": "markdown",
   "metadata": {},
   "source": [
    "We now print out the result"
   ]
  },
  {
   "cell_type": "code",
   "execution_count": 14,
   "metadata": {},
   "outputs": [
    {
     "data": {
      "text/plain": [
       "3212.5090000070927"
      ]
     },
     "execution_count": 14,
     "metadata": {},
     "output_type": "execute_result"
    }
   ],
   "source": [
    "area_np"
   ]
  },
  {
   "cell_type": "markdown",
   "metadata": {},
   "source": [
    "Note that the actual value of the integral is $3212.5$, so this is very close!"
   ]
  },
  {
   "cell_type": "markdown",
   "metadata": {},
   "source": [
    "The code below repeats the above step with lists instead of numpy arrays"
   ]
  },
  {
   "cell_type": "code",
   "execution_count": 15,
   "metadata": {},
   "outputs": [
    {
     "name": "stdout",
     "output_type": "stream",
     "text": [
      "2.8501412868499756\n"
     ]
    }
   ],
   "source": [
    "start = time.time()\n",
    "# Create the endpoints of the intervals\n",
    "x_list = [x_0 + i*(x_N-x_0)/N for i in range(N+1)]\n",
    "# Evaluate f at each of these points\n",
    "y_list = list(map(f, x_list))\n",
    "area_list = (x_list[-1] - x_list[0])/(2*N) * \\\n",
    "    (2*sum(y_list) - y_list[0] - y_list[1])\n",
    "end = time.time()\n",
    "print(end-start)"
   ]
  },
  {
   "cell_type": "markdown",
   "metadata": {},
   "source": [
    "Notice how the time taken is much slow than when using numpy arrays. In fact, numpy becomes much faster when matrix-type operations are considered."
   ]
  },
  {
   "cell_type": "markdown",
   "metadata": {},
   "source": [
    "Below outputs the calculated area, which, of course, is the same as the previous approximation."
   ]
  },
  {
   "cell_type": "code",
   "execution_count": 16,
   "metadata": {},
   "outputs": [
    {
     "data": {
      "text/plain": [
       "3212.509000007092"
      ]
     },
     "execution_count": 16,
     "metadata": {},
     "output_type": "execute_result"
    }
   ],
   "source": [
    "area_list"
   ]
  }
 ],
 "metadata": {
  "kernelspec": {
   "display_name": "Python 3",
   "language": "python",
   "name": "python3"
  },
  "language_info": {
   "codemirror_mode": {
    "name": "ipython",
    "version": 3
   },
   "file_extension": ".py",
   "mimetype": "text/x-python",
   "name": "python",
   "nbconvert_exporter": "python",
   "pygments_lexer": "ipython3",
   "version": "3.7.4"
  }
 },
 "nbformat": 4,
 "nbformat_minor": 2
}
