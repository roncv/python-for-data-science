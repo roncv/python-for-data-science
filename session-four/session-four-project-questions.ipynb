{
 "cells": [
  {
   "cell_type": "markdown",
   "metadata": {},
   "source": [
    "# **Python for Data Science Practice Session 4: Biochemistry**"
   ]
  },
  {
   "cell_type": "markdown",
   "metadata": {},
   "source": [
    "# **Processing bioactivity data for ML - Questions**"
   ]
  },
  {
   "cell_type": "markdown",
   "metadata": {},
   "source": [
    "### Background"
   ]
  },
  {
   "cell_type": "markdown",
   "metadata": {},
   "source": [
    "**EGRF** is the **target** of an **anticancer** targeted therapy drug: **Tagrisso (Osimertinib)**. It was the seventh best-selling drug of 2020 with **$3.19 billion** in sales, and is used to treat non-small cell lung cancers where there is a specific mutation in the **EGRF** protein."
   ]
  },
  {
   "cell_type": "markdown",
   "metadata": {},
   "source": [
    "<center><img src=\"./biochem_images/carcinoma.gif\" width=\"300\" align=\"center\"/>"
   ]
  },
  {
   "cell_type": "markdown",
   "metadata": {},
   "source": [
    "                              Image above: Cell micrograph of a squamos Nonsmall-cell lung carcinoma\n",
    "                                        Image below: Astrazeneca's Tagrisso in pill form"
   ]
  },
  {
   "cell_type": "markdown",
   "metadata": {},
   "source": [
    "<table><tr>\n",
    "<td> <img src=\"./biochem_images/tagrisso.jpg\" alt=\"Tagrisso pill\" style=\"width: 250px;\"/> </td>\n",
    "<td> <img src=\"./biochem_images/az_logo.png\" alt=\"AZ Logo\" style=\"width: 250px;\"/> </td>\n",
    "</tr></table>"
   ]
  },
  {
   "cell_type": "markdown",
   "metadata": {},
   "source": [
    "Links: -\n",
    "\n",
    "https://www.fiercepharma.com/special-report/tagrisso-top-10-drugs-by-sales-increase-2020\n",
    "\n",
    "https://en.wikipedia.org/wiki/Osimertinib"
   ]
  },
  {
   "cell_type": "markdown",
   "metadata": {},
   "source": [
    "## Introduction"
   ]
  },
  {
   "cell_type": "markdown",
   "metadata": {},
   "source": [
    "This notebook will be focusing on the Epidermal Growth Factor Receptor (**EGRF**). We will be pre-processing activity data from the ChEMBL database."
   ]
  },
  {
   "cell_type": "markdown",
   "metadata": {},
   "source": [
    "Image of compound here (ChemDraw) - - Image of protein - Draw in PYMOL?"
   ]
  },
  {
   "cell_type": "markdown",
   "metadata": {},
   "source": [
    "We will first import pandas and the ChEMBL web service package"
   ]
  },
  {
   "cell_type": "code",
   "execution_count": 3,
   "metadata": {},
   "outputs": [],
   "source": [
    "#import pandas and the ChEMBL package\n",
    "import pandas as pd\n",
    "from chembl_webresource_client.new_client import new_client"
   ]
  },
  {
   "cell_type": "code",
   "execution_count": 55,
   "metadata": {
    "jupyter": {
     "outputs_hidden": true
    },
    "scrolled": true
   },
   "outputs": [],
   "source": [
    "#For google colab users\n",
    "#!pip install kora\n",
    "#import kora.install.rdkit"
   ]
  },
  {
   "cell_type": "code",
   "execution_count": 5,
   "metadata": {},
   "outputs": [],
   "source": [
    "#Import the RDKit module \n",
    "import rdkit"
   ]
  },
  {
   "cell_type": "markdown",
   "metadata": {},
   "source": [
    "Links for help with installing RDKit:-\n",
    "\n",
    "https://www.rdkit.org/docs/Install.html\n",
    "\n",
    "https://depth-first.com/articles/2020/08/17/getting-started-rdkit-and-jupyter/"
   ]
  },
  {
   "cell_type": "markdown",
   "metadata": {},
   "source": [
    "### Importing ChEMBL data"
   ]
  },
  {
   "cell_type": "markdown",
   "metadata": {},
   "source": [
    "ChEMBL is a large database containing drug-like compounds and their activities. \n",
    "\n",
    "We will be importing the data using the web client's search function."
   ]
  },
  {
   "cell_type": "markdown",
   "metadata": {},
   "source": [
    "**Run the cell below**"
   ]
  },
  {
   "cell_type": "code",
   "execution_count": 6,
   "metadata": {},
   "outputs": [
    {
     "data": {
      "text/html": [
       "<div>\n",
       "<style scoped>\n",
       "    .dataframe tbody tr th:only-of-type {\n",
       "        vertical-align: middle;\n",
       "    }\n",
       "\n",
       "    .dataframe tbody tr th {\n",
       "        vertical-align: top;\n",
       "    }\n",
       "\n",
       "    .dataframe thead th {\n",
       "        text-align: right;\n",
       "    }\n",
       "</style>\n",
       "<table border=\"1\" class=\"dataframe\">\n",
       "  <thead>\n",
       "    <tr style=\"text-align: right;\">\n",
       "      <th></th>\n",
       "      <th>cross_references</th>\n",
       "      <th>organism</th>\n",
       "      <th>pref_name</th>\n",
       "      <th>score</th>\n",
       "      <th>species_group_flag</th>\n",
       "      <th>target_chembl_id</th>\n",
       "      <th>target_components</th>\n",
       "      <th>target_type</th>\n",
       "      <th>tax_id</th>\n",
       "    </tr>\n",
       "  </thead>\n",
       "  <tbody>\n",
       "    <tr>\n",
       "      <th>0</th>\n",
       "      <td>[{'xref_id': 'Q01279', 'xref_name': None, 'xre...</td>\n",
       "      <td>Mus musculus</td>\n",
       "      <td>Epidermal growth factor receptor erbB1</td>\n",
       "      <td>16.0</td>\n",
       "      <td>False</td>\n",
       "      <td>CHEMBL3608</td>\n",
       "      <td>[{'accession': 'Q01279', 'component_descriptio...</td>\n",
       "      <td>SINGLE PROTEIN</td>\n",
       "      <td>10090</td>\n",
       "    </tr>\n",
       "    <tr>\n",
       "      <th>1</th>\n",
       "      <td>[]</td>\n",
       "      <td>Homo sapiens</td>\n",
       "      <td>EGFR/PPP1CA</td>\n",
       "      <td>16.0</td>\n",
       "      <td>False</td>\n",
       "      <td>CHEMBL4523747</td>\n",
       "      <td>[{'accession': 'P00533', 'component_descriptio...</td>\n",
       "      <td>PROTEIN-PROTEIN INTERACTION</td>\n",
       "      <td>9606</td>\n",
       "    </tr>\n",
       "    <tr>\n",
       "      <th>2</th>\n",
       "      <td>[]</td>\n",
       "      <td>Homo sapiens</td>\n",
       "      <td>VHL/EGFR</td>\n",
       "      <td>16.0</td>\n",
       "      <td>False</td>\n",
       "      <td>CHEMBL4523998</td>\n",
       "      <td>[{'accession': 'P00533', 'component_descriptio...</td>\n",
       "      <td>PROTEIN-PROTEIN INTERACTION</td>\n",
       "      <td>9606</td>\n",
       "    </tr>\n",
       "    <tr>\n",
       "      <th>3</th>\n",
       "      <td>[{'xref_id': 'P00533', 'xref_name': None, 'xre...</td>\n",
       "      <td>Homo sapiens</td>\n",
       "      <td>Epidermal growth factor receptor erbB1</td>\n",
       "      <td>12.0</td>\n",
       "      <td>False</td>\n",
       "      <td>CHEMBL203</td>\n",
       "      <td>[{'accession': 'P00533', 'component_descriptio...</td>\n",
       "      <td>SINGLE PROTEIN</td>\n",
       "      <td>9606</td>\n",
       "    </tr>\n",
       "    <tr>\n",
       "      <th>4</th>\n",
       "      <td>[]</td>\n",
       "      <td>Homo sapiens</td>\n",
       "      <td>Protein cereblon/Epidermal growth factor receptor</td>\n",
       "      <td>11.0</td>\n",
       "      <td>False</td>\n",
       "      <td>CHEMBL4523680</td>\n",
       "      <td>[{'accession': 'P00533', 'component_descriptio...</td>\n",
       "      <td>PROTEIN-PROTEIN INTERACTION</td>\n",
       "      <td>9606</td>\n",
       "    </tr>\n",
       "    <tr>\n",
       "      <th>5</th>\n",
       "      <td>[]</td>\n",
       "      <td>Homo sapiens</td>\n",
       "      <td>MER intracellular domain/EGFR extracellular do...</td>\n",
       "      <td>9.0</td>\n",
       "      <td>False</td>\n",
       "      <td>CHEMBL3137284</td>\n",
       "      <td>[{'accession': 'P00533', 'component_descriptio...</td>\n",
       "      <td>CHIMERIC PROTEIN</td>\n",
       "      <td>9606</td>\n",
       "    </tr>\n",
       "    <tr>\n",
       "      <th>6</th>\n",
       "      <td>[]</td>\n",
       "      <td>Homo sapiens</td>\n",
       "      <td>Epidermal growth factor receptor and ErbB2 (HE...</td>\n",
       "      <td>7.0</td>\n",
       "      <td>False</td>\n",
       "      <td>CHEMBL2111431</td>\n",
       "      <td>[{'accession': 'P04626', 'component_descriptio...</td>\n",
       "      <td>PROTEIN FAMILY</td>\n",
       "      <td>9606</td>\n",
       "    </tr>\n",
       "    <tr>\n",
       "      <th>7</th>\n",
       "      <td>[]</td>\n",
       "      <td>Homo sapiens</td>\n",
       "      <td>Epidermal growth factor receptor</td>\n",
       "      <td>4.0</td>\n",
       "      <td>False</td>\n",
       "      <td>CHEMBL2363049</td>\n",
       "      <td>[{'accession': 'P04626', 'component_descriptio...</td>\n",
       "      <td>PROTEIN FAMILY</td>\n",
       "      <td>9606</td>\n",
       "    </tr>\n",
       "  </tbody>\n",
       "</table>\n",
       "</div>"
      ],
      "text/plain": [
       "                                    cross_references      organism  \\\n",
       "0  [{'xref_id': 'Q01279', 'xref_name': None, 'xre...  Mus musculus   \n",
       "1                                                 []  Homo sapiens   \n",
       "2                                                 []  Homo sapiens   \n",
       "3  [{'xref_id': 'P00533', 'xref_name': None, 'xre...  Homo sapiens   \n",
       "4                                                 []  Homo sapiens   \n",
       "5                                                 []  Homo sapiens   \n",
       "6                                                 []  Homo sapiens   \n",
       "7                                                 []  Homo sapiens   \n",
       "\n",
       "                                           pref_name  score  \\\n",
       "0             Epidermal growth factor receptor erbB1   16.0   \n",
       "1                                        EGFR/PPP1CA   16.0   \n",
       "2                                           VHL/EGFR   16.0   \n",
       "3             Epidermal growth factor receptor erbB1   12.0   \n",
       "4  Protein cereblon/Epidermal growth factor receptor   11.0   \n",
       "5  MER intracellular domain/EGFR extracellular do...    9.0   \n",
       "6  Epidermal growth factor receptor and ErbB2 (HE...    7.0   \n",
       "7                   Epidermal growth factor receptor    4.0   \n",
       "\n",
       "   species_group_flag target_chembl_id  \\\n",
       "0               False       CHEMBL3608   \n",
       "1               False    CHEMBL4523747   \n",
       "2               False    CHEMBL4523998   \n",
       "3               False        CHEMBL203   \n",
       "4               False    CHEMBL4523680   \n",
       "5               False    CHEMBL3137284   \n",
       "6               False    CHEMBL2111431   \n",
       "7               False    CHEMBL2363049   \n",
       "\n",
       "                                   target_components  \\\n",
       "0  [{'accession': 'Q01279', 'component_descriptio...   \n",
       "1  [{'accession': 'P00533', 'component_descriptio...   \n",
       "2  [{'accession': 'P00533', 'component_descriptio...   \n",
       "3  [{'accession': 'P00533', 'component_descriptio...   \n",
       "4  [{'accession': 'P00533', 'component_descriptio...   \n",
       "5  [{'accession': 'P00533', 'component_descriptio...   \n",
       "6  [{'accession': 'P04626', 'component_descriptio...   \n",
       "7  [{'accession': 'P04626', 'component_descriptio...   \n",
       "\n",
       "                   target_type  tax_id  \n",
       "0               SINGLE PROTEIN   10090  \n",
       "1  PROTEIN-PROTEIN INTERACTION    9606  \n",
       "2  PROTEIN-PROTEIN INTERACTION    9606  \n",
       "3               SINGLE PROTEIN    9606  \n",
       "4  PROTEIN-PROTEIN INTERACTION    9606  \n",
       "5             CHIMERIC PROTEIN    9606  \n",
       "6               PROTEIN FAMILY    9606  \n",
       "7               PROTEIN FAMILY    9606  "
      ]
     },
     "execution_count": 6,
     "metadata": {},
     "output_type": "execute_result"
    }
   ],
   "source": [
    "#Search ChEMBL for the 'egfr' target - A growth factor receptor\n",
    "#This will collate all possible results - we combine these into a pandas dataframe\n",
    "target = new_client.target\n",
    "target_query = target.search('egfr')\n",
    "targets = pd.DataFrame.from_dict(target_query)\n",
    "targets"
   ]
  },
  {
   "cell_type": "markdown",
   "metadata": {},
   "source": [
    "**Select `CHEMBL3608` using it's index in the code below**"
   ]
  },
  {
   "cell_type": "code",
   "execution_count": 7,
   "metadata": {
    "scrolled": true
   },
   "outputs": [
    {
     "data": {
      "text/plain": [
       "'CHEMBL3608'"
      ]
     },
     "execution_count": 7,
     "metadata": {},
     "output_type": "execute_result"
    }
   ],
   "source": [
    "#In this particular case CHEMBL3608 is the target we will use - index 0\n",
    "select_target = targets.target_chembl_id[]\n",
    "select_target"
   ]
  },
  {
   "cell_type": "markdown",
   "metadata": {},
   "source": [
    "Link to target: https://www.ebi.ac.uk/chembl/target_report_card/CHEMBL3608/"
   ]
  },
  {
   "cell_type": "markdown",
   "metadata": {},
   "source": [
    "### Getting Activity data"
   ]
  },
  {
   "cell_type": "markdown",
   "metadata": {},
   "source": [
    "Understaning the data you're working with is essential in order to draw meaningful conclusions from it. In the drug-discovery process **bioactivity** is an important property that can be determined experimentally."
   ]
  },
  {
   "cell_type": "markdown",
   "metadata": {},
   "source": [
    "**An important measure of bioactivity:-**\n",
    "\n",
    "**IC50:** A lower value suggests a higher potency - the amount required to inhibit biological processes by 50%.\n",
    "\n",
    "Therefore, we are looking for lower IC50 values, and this is good enough for now, however it isn't the complete picture of what constitutes an effective drug."
   ]
  },
  {
   "cell_type": "markdown",
   "metadata": {},
   "source": [
    "We will first import the activity data from our selected target and select only rows using the IC50 activity type."
   ]
  },
  {
   "cell_type": "markdown",
   "metadata": {},
   "source": [
    "**Run the cell below.**"
   ]
  },
  {
   "cell_type": "code",
   "execution_count": 8,
   "metadata": {},
   "outputs": [],
   "source": [
    "#Importing activity data\n",
    "activity = new_client.activity\n",
    "res = activity.filter(target_chembl_id = select_target).filter(standard_type=\"IC50\")"
   ]
  },
  {
   "cell_type": "markdown",
   "metadata": {},
   "source": [
    "**Create a new dataframe from the filtered results dictionary `res` using `.Dataframe.from_dict()` and call this `df`.**"
   ]
  },
  {
   "cell_type": "code",
   "execution_count": 9,
   "metadata": {},
   "outputs": [],
   "source": [
    "#Creating a new dataframe from the filtered results\n"
   ]
  },
  {
   "cell_type": "markdown",
   "metadata": {},
   "source": [
    "**Display the bottom 5 rows of the new dataframe `df`.**"
   ]
  },
  {
   "cell_type": "code",
   "execution_count": 1,
   "metadata": {
    "scrolled": true
   },
   "outputs": [],
   "source": [
    "#Display the 5 bottom rows of the new dataframe\n"
   ]
  },
  {
   "cell_type": "markdown",
   "metadata": {},
   "source": [
    "**Display all the column names in the `df`.**"
   ]
  },
  {
   "cell_type": "code",
   "execution_count": 2,
   "metadata": {
    "scrolled": true
   },
   "outputs": [],
   "source": [
    "#Not all column names are visible in the dataframe preview\n",
    "#Use this as a reference\n"
   ]
  },
  {
   "cell_type": "markdown",
   "metadata": {},
   "source": [
    "**Using the `.shape` function, determine the number of columns in the data.**"
   ]
  },
  {
   "cell_type": "code",
   "execution_count": 3,
   "metadata": {},
   "outputs": [],
   "source": [
    "#Determine the number of rows in `df`\n"
   ]
  },
  {
   "cell_type": "markdown",
   "metadata": {},
   "source": [
    "**Determine the number of missing activites in the data using the `.iloc[]`, `.isna`, and `.mean()` functions on the `standard_value` column of the `df` dataset.**"
   ]
  },
  {
   "cell_type": "markdown",
   "metadata": {},
   "source": [
    "**TIP:** This was covered in the teaching session as identifying the proportion of missing values, you will need to additionally multiplly the result by the number of rows in `df`."
   ]
  },
  {
   "cell_type": "code",
   "execution_count": 4,
   "metadata": {},
   "outputs": [],
   "source": [
    "#Determine the proportion of missing values in the standard_value column and pront the result\n"
   ]
  },
  {
   "cell_type": "markdown",
   "metadata": {},
   "source": [
    "**Identify the compounds with no activity data using the `.loc` function on the `activity_comment` column.**"
   ]
  },
  {
   "cell_type": "markdown",
   "metadata": {},
   "source": [
    "**TIP:** If you are unsure what to filter for, use the `.unique()` function to determine contents of the column. In this case we should select for `\"Not Determined\"`."
   ]
  },
  {
   "cell_type": "code",
   "execution_count": 5,
   "metadata": {},
   "outputs": [],
   "source": [
    "#Identify compounds with no activity data\n",
    "#Display activity comment and molecule ID\n"
   ]
  },
  {
   "cell_type": "code",
   "execution_count": 15,
   "metadata": {
    "scrolled": true
   },
   "outputs": [
    {
     "data": {
      "text/plain": [
       "array([None, 'Not Determined'], dtype=object)"
      ]
     },
     "execution_count": 15,
     "metadata": {},
     "output_type": "execute_result"
    }
   ],
   "source": [
    "#How one might check their answers\n",
    "df.activity_comment.unique()"
   ]
  },
  {
   "cell_type": "code",
   "execution_count": 16,
   "metadata": {},
   "outputs": [
    {
     "data": {
      "text/plain": [
       "array(['uM', 'nM', 'ug ml-1', None], dtype=object)"
      ]
     },
     "execution_count": 16,
     "metadata": {},
     "output_type": "execute_result"
    }
   ],
   "source": [
    "#Determining what units are used for activity in our current dataset.\n",
    "df.units.unique()"
   ]
  },
  {
   "cell_type": "markdown",
   "metadata": {},
   "source": [
    "## Cleaning"
   ]
  },
  {
   "cell_type": "markdown",
   "metadata": {},
   "source": [
    "### Missing Values"
   ]
  },
  {
   "cell_type": "markdown",
   "metadata": {},
   "source": [
    "There are many ways of dealing with missing values, however in the case of the missing IC50 values in `df`, 2 of the compounds have IC50 values in a separate dataset `CHEMBL203`. This is also the 4th result in our initial target search."
   ]
  },
  {
   "cell_type": "code",
   "execution_count": 17,
   "metadata": {},
   "outputs": [
    {
     "data": {
      "text/plain": [
       "'CHEMBL203'"
      ]
     },
     "execution_count": 17,
     "metadata": {},
     "output_type": "execute_result"
    }
   ],
   "source": [
    "#Selecting the CHEMBL203 target - index 3\n",
    "select_target_2 = targets.target_chembl_id[3]\n",
    "select_target_2"
   ]
  },
  {
   "cell_type": "markdown",
   "metadata": {},
   "source": [
    "**Using the `filter` function select the molecule `CHEMBL4444231` and assign results to variable name `res_2`.**"
   ]
  },
  {
   "cell_type": "markdown",
   "metadata": {},
   "source": [
    "**Note:** Just filtering by molecule name will yield 2 results, the IC50 value you are after is around 2000-3000. We will select for this compund by filtering by an additional column which will isolate the desired compound."
   ]
  },
  {
   "cell_type": "markdown",
   "metadata": {},
   "source": [
    "**TIP:** The code required to do this is very similar to the code we used to import activity data earlier."
   ]
  },
  {
   "cell_type": "code",
   "execution_count": 6,
   "metadata": {},
   "outputs": [],
   "source": [
    "#Filter for one of the target compunds\n"
   ]
  },
  {
   "cell_type": "markdown",
   "metadata": {},
   "source": [
    "**Create a new dataframe, `df_2` from `res_2` using `pd.Dataframe.from_dict()`.**"
   ]
  },
  {
   "cell_type": "code",
   "execution_count": 7,
   "metadata": {},
   "outputs": [],
   "source": [
    "#Create new dataframe from filter results\n"
   ]
  },
  {
   "cell_type": "code",
   "execution_count": 8,
   "metadata": {},
   "outputs": [],
   "source": [
    "#Show contents\n"
   ]
  },
  {
   "cell_type": "markdown",
   "metadata": {},
   "source": [
    "**Using the `filter` function select the molecule `CHEMBL4591327` and assign results to variable name `res_3`.** "
   ]
  },
  {
   "cell_type": "code",
   "execution_count": 9,
   "metadata": {},
   "outputs": [],
   "source": [
    "#Filter for one of the target compunds\n"
   ]
  },
  {
   "cell_type": "markdown",
   "metadata": {},
   "source": [
    "**Create a new dataframe, `df_3` from `res_3` using `pd.Dataframe.from_dict()`.**"
   ]
  },
  {
   "cell_type": "code",
   "execution_count": 10,
   "metadata": {},
   "outputs": [],
   "source": [
    "#Create new dataframe from filter results\n"
   ]
  },
  {
   "cell_type": "code",
   "execution_count": 11,
   "metadata": {},
   "outputs": [],
   "source": [
    "#Show contents\n"
   ]
  },
  {
   "cell_type": "markdown",
   "metadata": {},
   "source": [
    "The same cannot be done with `CHEMBL184685` as the activity data is not present in this dataset either."
   ]
  },
  {
   "cell_type": "markdown",
   "metadata": {},
   "source": [
    "**Remove the compunds with missing bioactivity data from `df` using the `.drop()` function.**"
   ]
  },
  {
   "cell_type": "markdown",
   "metadata": {},
   "source": [
    "**TIP:** You will need to use the indexes found earlier"
   ]
  },
  {
   "cell_type": "code",
   "execution_count": 12,
   "metadata": {},
   "outputs": [],
   "source": [
    "#Removing the columns with no activities\n"
   ]
  },
  {
   "cell_type": "markdown",
   "metadata": {},
   "source": [
    "### Combining Datasets"
   ]
  },
  {
   "cell_type": "markdown",
   "metadata": {},
   "source": [
    "We would like to combine `df_1`, `df_2`, and `df_3` to complete our dataset."
   ]
  },
  {
   "cell_type": "markdown",
   "metadata": {},
   "source": [
    "**In the cell below, print the shapes of all 3 datasets. What method of comnbination might we use?**"
   ]
  },
  {
   "cell_type": "code",
   "execution_count": 13,
   "metadata": {},
   "outputs": [],
   "source": [
    "#Print the \n"
   ]
  },
  {
   "cell_type": "markdown",
   "metadata": {},
   "source": [
    "As all dataframes have the same number of columns (45) so they can all be combined using only **concatenation**. "
   ]
  },
  {
   "cell_type": "markdown",
   "metadata": {},
   "source": [
    "**Combine `df_1`, `df_2`, and `df_3` into a new dataframe called `df_full` using an appropriate combination method**"
   ]
  },
  {
   "cell_type": "code",
   "execution_count": 14,
   "metadata": {
    "scrolled": true
   },
   "outputs": [],
   "source": [
    "#Create a list containing dataframes to be combined\n",
    "#Concatenate and rename new dataframe\n"
   ]
  },
  {
   "cell_type": "markdown",
   "metadata": {},
   "source": [
    "**Create a list with the columns: `'molecule_chembl_id'`, `'canonical_smiles'`, and`'standard_value'`. Assign this new dataset to a new variable `df_condensed`.**"
   ]
  },
  {
   "cell_type": "code",
   "execution_count": 15,
   "metadata": {},
   "outputs": [],
   "source": [
    "#Create a new dataframe only containing the columns: 'molecule_chembl_id', 'canonical_smiles', and'standard_value'\n"
   ]
  },
  {
   "cell_type": "markdown",
   "metadata": {},
   "source": [
    "**At this point the indexes will be muddled up. The code below should resolve this.**"
   ]
  },
  {
   "cell_type": "code",
   "execution_count": null,
   "metadata": {
    "scrolled": true
   },
   "outputs": [],
   "source": [
    "#The code below should reset the index values\n",
    "df_condensed = df_condensed.reset_index(drop=True)\n",
    "df_condensed"
   ]
  },
  {
   "cell_type": "markdown",
   "metadata": {},
   "source": [
    "### Creating a new column"
   ]
  },
  {
   "cell_type": "code",
   "execution_count": 30,
   "metadata": {},
   "outputs": [],
   "source": [
    "#Create a new column for bioactivity class\n",
    "#Looping through standard values and classifying them accordingly\n",
    "bioactivity_class = []\n",
    "for i in df_condensed.standard_value:\n",
    "    if float(i) >= 10000:\n",
    "        bioactivity_class.append(\"inactive\")\n",
    "    elif 100 <= float(i) <= 1000:\n",
    "        bioactivity_class.append(\"active\")\n",
    "    elif float(i) <= 100:\n",
    "        bioactivity_class.append(\"highly active\")\n",
    "    else:\n",
    "        bioactivity_class.append(\"intermediate\")"
   ]
  },
  {
   "cell_type": "markdown",
   "metadata": {},
   "source": [
    "**Concatenate `df_condensed` and `bioactivity_class`.**"
   ]
  },
  {
   "cell_type": "markdown",
   "metadata": {},
   "source": [
    "**TIP:** You will need to contain `bioactivity_class` within `pd.series()`."
   ]
  },
  {
   "cell_type": "code",
   "execution_count": 31,
   "metadata": {},
   "outputs": [],
   "source": [
    "#Concatenation of the bioactivity class to df_condensed\n"
   ]
  },
  {
   "cell_type": "markdown",
   "metadata": {},
   "source": [
    "**Rename the newly added column to `activity_class`.**"
   ]
  },
  {
   "cell_type": "code",
   "execution_count": 32,
   "metadata": {},
   "outputs": [],
   "source": [
    "#Rename the newly added column\n"
   ]
  },
  {
   "cell_type": "markdown",
   "metadata": {},
   "source": [
    "**Create a new dataframe called `df_activity` from `df_activity_dict`.**"
   ]
  },
  {
   "cell_type": "code",
   "execution_count": 33,
   "metadata": {},
   "outputs": [],
   "source": [
    "#Creating a new dataframe\n"
   ]
  },
  {
   "cell_type": "markdown",
   "metadata": {},
   "source": [
    "**Re-assign `df_activity` to a filterd version of `df_activity` containing only compounds marked as `'highly active'`. Use the `.loc[]` and `.isin()` functions.**"
   ]
  },
  {
   "cell_type": "code",
   "execution_count": 57,
   "metadata": {},
   "outputs": [],
   "source": [
    "#Filtering df_activity for only highly active compunds\n"
   ]
  },
  {
   "cell_type": "code",
   "execution_count": null,
   "metadata": {
    "scrolled": false
   },
   "outputs": [],
   "source": [
    "#Determine the shape of the dataframe\n"
   ]
  },
  {
   "cell_type": "markdown",
   "metadata": {},
   "source": [
    "**Sort `df_activity` by `'standard_value'`.**"
   ]
  },
  {
   "cell_type": "code",
   "execution_count": 37,
   "metadata": {},
   "outputs": [],
   "source": [
    "#Sort the dataframe by standard_value\n"
   ]
  },
  {
   "cell_type": "markdown",
   "metadata": {},
   "source": [
    "**Create a new dataframe `df_select` containg the 10 lowest IC50 values.**"
   ]
  },
  {
   "cell_type": "code",
   "execution_count": null,
   "metadata": {
    "scrolled": true
   },
   "outputs": [],
   "source": [
    "#Print the top 10 compounds\n",
    "\n",
    "\n",
    "#Reset indexes and print dataframe\n",
    "df_select = df_select.reset_index(drop=True)\n",
    "df_select"
   ]
  },
  {
   "cell_type": "markdown",
   "metadata": {},
   "source": [
    "### Visualising Compounds with RDKit"
   ]
  },
  {
   "cell_type": "markdown",
   "metadata": {},
   "source": [
    "We have already imported the RDKit package, but are still required to import some of its modules."
   ]
  },
  {
   "cell_type": "code",
   "execution_count": 41,
   "metadata": {},
   "outputs": [],
   "source": [
    "#Import required RDKit modules\n",
    "from rdkit import Chem\n",
    "from rdkit.Chem import Draw\n",
    "from rdkit.Chem.Draw import IPythonConsole\n",
    "from rdkit.Chem import AllChem\n",
    "from rdkit import DataStructs\n",
    "from rdkit.Chem import Descriptors\n",
    "from rdkit.Chem.Draw import SimilarityMaps\n",
    "from rdkit import RDLogger\n",
    "from rdkit.Chem import Descriptors, Lipinski"
   ]
  },
  {
   "cell_type": "code",
   "execution_count": 50,
   "metadata": {},
   "outputs": [],
   "source": [
    "#This will create vector images of the compound structures (better quality)\n",
    "IPythonConsole.ipython_useSVG=True"
   ]
  },
  {
   "cell_type": "markdown",
   "metadata": {},
   "source": [
    "**From the `df_select` dataframe display the SMILES string of the 1st row using `.iloc[]`.**"
   ]
  },
  {
   "cell_type": "code",
   "execution_count": null,
   "metadata": {
    "scrolled": false
   },
   "outputs": [],
   "source": [
    "#Display the SMILES string of the top result in `df_select`\n"
   ]
  },
  {
   "cell_type": "markdown",
   "metadata": {},
   "source": [
    "**Input the code above into the brackets of the `Chem.MolFromSmiles()` function.**"
   ]
  },
  {
   "cell_type": "code",
   "execution_count": null,
   "metadata": {},
   "outputs": [],
   "source": [
    "#Visualising the 1st compound\n",
    "cpd_1 = Chem.MolFromSmiles() \n",
    "cpd_1"
   ]
  },
  {
   "cell_type": "markdown",
   "metadata": {},
   "source": [
    "**Using code similar to above, create the remaining 9 molecules from their SMILES strings.**"
   ]
  },
  {
   "cell_type": "code",
   "execution_count": 45,
   "metadata": {},
   "outputs": [],
   "source": [
    "#Assign the remaining 9 compounds\n",
    "cpd_2 = Chem.MolFromSmiles() \n",
    "cpd_3 = Chem.MolFromSmiles() \n",
    "cpd_4 = Chem.MolFromSmiles() \n",
    "cpd_5 = Chem.MolFromSmiles() \n",
    "cpd_6 = Chem.MolFromSmiles() \n",
    "cpd_7 = Chem.MolFromSmiles() \n",
    "cpd_8 = Chem.MolFromSmiles() \n",
    "cpd_9 = Chem.MolFromSmiles() \n",
    "cpd_10 = Chem.MolFromSmiles() "
   ]
  },
  {
   "cell_type": "markdown",
   "metadata": {},
   "source": [
    "**Assign the ChEMBL ID's to the following variables.**"
   ]
  },
  {
   "cell_type": "code",
   "execution_count": 46,
   "metadata": {},
   "outputs": [],
   "source": [
    "#Assign ChEMBL ID's to a new variable\n",
    "id1 = \n",
    "id2 = \n",
    "id3 = \n",
    "id4 = \n",
    "id5 = \n",
    "id6 = \n",
    "id7 = \n",
    "id8 = \n",
    "id9 = \n",
    "id10 = "
   ]
  },
  {
   "cell_type": "markdown",
   "metadata": {},
   "source": [
    "We will now visualise the 10 compounds from the `df_select` dataframe."
   ]
  },
  {
   "cell_type": "markdown",
   "metadata": {},
   "source": [
    "**Run the cell below.**"
   ]
  },
  {
   "cell_type": "code",
   "execution_count": null,
   "metadata": {
    "scrolled": false
   },
   "outputs": [],
   "source": [
    "#Create a grid of the 10 compound structures\n",
    "Draw.MolsToGridImage(\n",
    "    (cpd_1, cpd_2, cpd_3, cpd_4, cpd_5, cpd_6, cpd_7, cpd_8, cpd_9, cpd_10),\n",
    "    legends = ('1. ' + id1,'2. ' + id2,'3. ' + id3,'4. ' + id4,'5. ' + id5, \n",
    "               '6. ' + id6, '7. ' + id7, '8. ' + id8, '9. ' + id9, '10.'+id10),\n",
    "    molsPerRow=5, subImgSize=(190,190)\n",
    ")"
   ]
  },
  {
   "cell_type": "markdown",
   "metadata": {},
   "source": [
    "**Tagrisso**, the drug used to target a mutated form of the **EGRF** protein has the SMILES formula below:-"
   ]
  },
  {
   "cell_type": "markdown",
   "metadata": {},
   "source": [
    "`CN1C=C(C2=CC=CC=C21)C3=NC(=NC=C3)NC4=C(C=C(C(=C4)NC(=O)C=C)N(C)CCN(C)C)OC`"
   ]
  },
  {
   "cell_type": "markdown",
   "metadata": {},
   "source": [
    "**Using the `Chem.MolFromSmiles()` function as before, visualise Tagrisso's structure. Call the molecule `tgr`.**"
   ]
  },
  {
   "cell_type": "code",
   "execution_count": null,
   "metadata": {
    "scrolled": true
   },
   "outputs": [],
   "source": [
    "#Visualise Tagrisso's structure\n"
   ]
  },
  {
   "cell_type": "markdown",
   "metadata": {},
   "source": [
    "The following code compares the similarities of 2 molecules. **Run the cell below.**"
   ]
  },
  {
   "cell_type": "code",
   "execution_count": 54,
   "metadata": {},
   "outputs": [
    {
     "data": {
      "text/plain": [
       "0.27253371185237757"
      ]
     },
     "execution_count": 54,
     "metadata": {},
     "output_type": "execute_result"
    }
   ],
   "source": [
    "#Comparing the strucural similaritiy of Tagrisso and cpd_1\n",
    "ms = [cpd_1, tgr]\n",
    "fps = [Chem.RDKFingerprint(x) for x in ms]\n",
    "DataStructs.FingerprintSimilarity(fps[0], fps[1])"
   ]
  },
  {
   "cell_type": "markdown",
   "metadata": {},
   "source": [
    "**Adapt the code into a for loop, and iterate through all 10 compounds, determining their similarity with `tgr`.**"
   ]
  },
  {
   "cell_type": "markdown",
   "metadata": {},
   "source": [
    "**TIP:** You will need to create a list of the compounds."
   ]
  },
  {
   "cell_type": "code",
   "execution_count": null,
   "metadata": {
    "scrolled": true
   },
   "outputs": [],
   "source": [
    "#Determining similarities between `tgr` and our 10 selected compounds\n",
    "cpd_list = [cpd_1, cpd_2, cpd_3, cpd_4, cpd_5, cpd_6, cpd_7, cpd_8, cpd_9, cpd_10]\n",
    "for x in cpd_list:\n",
    "    "
   ]
  },
  {
   "cell_type": "markdown",
   "metadata": {},
   "source": [
    "**Which compound is most similar?**"
   ]
  },
  {
   "cell_type": "markdown",
   "metadata": {},
   "source": []
  },
  {
   "cell_type": "markdown",
   "metadata": {},
   "source": [
    "**What next?**"
   ]
  },
  {
   "cell_type": "markdown",
   "metadata": {},
   "source": [
    "This workbook has gone briefly through the kind of pre-processing you might do to prepare a dataset for ML, which in the case of the drug-discovery process is called QSAR. More work would still be required to prepare the data (RDKit fingerprinting and Lipinski's rules), and the datasets used would be larger."
   ]
  }
 ],
 "metadata": {
  "kernelspec": {
   "display_name": "Python 3",
   "language": "python",
   "name": "python3"
  },
  "language_info": {
   "codemirror_mode": {
    "name": "ipython",
    "version": 3
   },
   "file_extension": ".py",
   "mimetype": "text/x-python",
   "name": "python",
   "nbconvert_exporter": "python",
   "pygments_lexer": "ipython3",
   "version": "3.6.12"
  }
 },
 "nbformat": 4,
 "nbformat_minor": 4
}
